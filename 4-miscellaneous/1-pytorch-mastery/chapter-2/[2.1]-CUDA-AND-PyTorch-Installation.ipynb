{
 "cells": [
  {
   "cell_type": "markdown",
   "id": "2e211148",
   "metadata": {},
   "source": [
    "# CUDA and PyTorch Installation"
   ]
  },
  {
   "cell_type": "markdown",
   "id": "c832a530",
   "metadata": {},
   "source": [
    "## Installation\n",
    "\n",
    "To download PyTorch, go to the link: https://pytorch.org/get-started/locally/\n",
    "\n",
    "- select OS: Linux/ Mac/ Windows\n",
    "- select Package: conda\n",
    "- select Python 3.7 or later\n",
    "\n",
    "if Linux or Windows and want GPU support\n",
    "- select Cuda version 10.X/ 11.X\n",
    "\n",
    "Install Cuda Toolkit\n",
    "Development environment for creating high performance GPU-accelerated applications\n",
    "You need an NVIDIA GPU in your machine:\n",
    "\n",
    "https://developer.nvidia.com/cuda-downloads\n",
    "\n",
    "Legacy releases\n",
    "11.0 update 2\n",
    "select OS (e.g. Ubuntu)\n",
    "\n",
    "Download and install\n",
    "\n",
    "## Create conda environment and activate it \n",
    "`$ conda create -n environment_name python=3.7`\n",
    "\n",
    "`$ conda activate pytorch`\n",
    "\n",
    "## Install pytorch\n",
    "`$ conda install pytorch torchvision -c pytorch`\n",
    "\n",
    "or with GPU\n",
    "`$ conda install pytorch torchvision cudatoolkit=11.X -c pytorch`\n",
    "\n",
    "You must have to put the right CUDA Toolkit Version here (e.g. if your installed CUDA version is 11.3, then you have to write cudatoolkit=11.3)"
   ]
  },
  {
   "cell_type": "code",
   "execution_count": 1,
   "id": "03299f59",
   "metadata": {},
   "outputs": [
    {
     "name": "stdout",
     "output_type": "stream",
     "text": [
      "NVIDIA GeForce GTX 1060 6GB is available for computation!\n"
     ]
    }
   ],
   "source": [
    "# Installation Verification:\n",
    "import torch\n",
    "\n",
    "if torch.cuda.is_available():\n",
    "    print(f\"{torch.cuda.get_device_name(0)} is available for computation!\")\n",
    "else:\n",
    "    print(\"GPU is unavailable!\")"
   ]
  }
 ],
 "metadata": {
  "kernelspec": {
   "display_name": "pytorch",
   "language": "python",
   "name": "pytorch"
  },
  "language_info": {
   "codemirror_mode": {
    "name": "ipython",
    "version": 3
   },
   "file_extension": ".py",
   "mimetype": "text/x-python",
   "name": "python",
   "nbconvert_exporter": "python",
   "pygments_lexer": "ipython3",
   "version": "3.8.12"
  }
 },
 "nbformat": 4,
 "nbformat_minor": 5
}
