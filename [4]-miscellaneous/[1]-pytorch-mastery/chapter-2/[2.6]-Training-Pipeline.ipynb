{
 "cells": [
  {
   "cell_type": "markdown",
   "id": "c02e0a18",
   "metadata": {},
   "source": [
    "# Training Pipeline"
   ]
  },
  {
   "cell_type": "code",
   "execution_count": 1,
   "id": "5a7af412",
   "metadata": {},
   "outputs": [
    {
     "name": "stdout",
     "output_type": "stream",
     "text": [
      "Training set has 60000 instances\n",
      "Validation set has 10000 instances\n"
     ]
    }
   ],
   "source": [
    "import torch\n",
    "import torchvision\n",
    "import torchvision.transforms as transforms\n",
    "\n",
    "# PyTorch TensorBoard support\n",
    "from torch.utils.tensorboard import SummaryWriter\n",
    "from datetime import datetime\n",
    "\n",
    "\n",
    "transform = transforms.Compose(\n",
    "    [transforms.ToTensor(),\n",
    "    transforms.Normalize((0.5,), (0.5,))])\n",
    "\n",
    "# Create datasets for training & validation, download if necessary\n",
    "training_set = torchvision.datasets.FashionMNIST('./data', train=True, transform=transform, download=True)\n",
    "validation_set = torchvision.datasets.FashionMNIST('./data', train=False, transform=transform, download=True)\n",
    "\n",
    "# Create data loaders for our datasets; shuffle for training, not for validation\n",
    "training_loader = torch.utils.data.DataLoader(training_set, batch_size=4, shuffle=True, num_workers=2)\n",
    "validation_loader = torch.utils.data.DataLoader(validation_set, batch_size=4, shuffle=False, num_workers=2)\n",
    "\n",
    "# Class labels\n",
    "classes = ('T-shirt/top', 'Trouser', 'Pullover', 'Dress', 'Coat',\n",
    "        'Sandal', 'Shirt', 'Sneaker', 'Bag', 'Ankle Boot')\n",
    "\n",
    "# Report split sizes\n",
    "print('Training set has {} instances'.format(len(training_set)))\n",
    "print('Validation set has {} instances'.format(len(validation_set)))"
   ]
  },
  {
   "cell_type": "code",
   "execution_count": 2,
   "id": "b374f31c",
   "metadata": {},
   "outputs": [
    {
     "name": "stdout",
     "output_type": "stream",
     "text": [
      "Ankle Boot  Dress  Bag  Pullover\n"
     ]
    },
    {
     "data": {
      "image/png": "[encoded data removed]",
      "text/plain": [
       "<Figure size 432x288 with 1 Axes>"
      ]
     },
     "metadata": {
      "needs_background": "light"
     },
     "output_type": "display_data"
    }
   ],
   "source": [
    "import matplotlib.pyplot as plt\n",
    "import numpy as np\n",
    "\n",
    "# Helper function for inline image display\n",
    "def matplotlib_imshow(img, one_channel=False):\n",
    "    if one_channel:\n",
    "        img = img.mean(dim=0)\n",
    "    img = img / 2 + 0.5     # unnormalize\n",
    "    npimg = img.numpy()\n",
    "    if one_channel:\n",
    "        plt.imshow(npimg, cmap=\"Greys\")\n",
    "    else:\n",
    "        plt.imshow(np.transpose(npimg, (1, 2, 0)))\n",
    "\n",
    "dataiter = iter(training_loader)\n",
    "images, labels = dataiter.next()\n",
    "\n",
    "# Create a grid from the images and show them\n",
    "img_grid = torchvision.utils.make_grid(images)\n",
    "matplotlib_imshow(img_grid, one_channel=True)\n",
    "print('  '.join(classes[labels[j]] for j in range(4)))"
   ]
  },
  {
   "cell_type": "code",
   "execution_count": 3,
   "id": "e2a9b815",
   "metadata": {},
   "outputs": [],
   "source": [
    "import torch.nn as nn\n",
    "import torch.nn.functional as F\n",
    "\n",
    "# PyTorch models inherit from torch.nn.Module\n",
    "class GarmentClassifier(nn.Module):\n",
    "    def __init__(self):\n",
    "        super(GarmentClassifier, self).__init__()\n",
    "        self.conv1 = nn.Conv2d(1, 6, 5)\n",
    "        self.pool = nn.MaxPool2d(2, 2)\n",
    "        self.conv2 = nn.Conv2d(6, 16, 5)\n",
    "        self.fc1 = nn.Linear(16 * 4 * 4, 120)\n",
    "        self.fc2 = nn.Linear(120, 84)\n",
    "        self.fc3 = nn.Linear(84, 10)\n",
    "\n",
    "    def forward(self, x):\n",
    "        x = self.pool(F.relu(self.conv1(x)))\n",
    "        x = self.pool(F.relu(self.conv2(x)))\n",
    "        x = x.view(-1, 16 * 4 * 4)\n",
    "        x = F.relu(self.fc1(x))\n",
    "        x = F.relu(self.fc2(x))\n",
    "        x = self.fc3(x)\n",
    "        return x\n",
    "\n",
    "model = GarmentClassifier()"
   ]
  },
  {
   "cell_type": "code",
   "execution_count": 4,
   "id": "82cda455",
   "metadata": {},
   "outputs": [
    {
     "name": "stdout",
     "output_type": "stream",
     "text": [
      "tensor([[0.1332, 0.7450, 0.6696, 0.8275, 0.5715, 0.5842, 0.2060, 0.8350, 0.3847,\n",
      "         0.1892],\n",
      "        [0.4464, 0.3053, 0.6288, 0.9496, 0.2597, 0.3208, 0.5081, 0.2420, 0.7277,\n",
      "         0.0933],\n",
      "        [0.3806, 0.5396, 0.8525, 0.1595, 0.6127, 0.2898, 0.8550, 0.9874, 0.9587,\n",
      "         0.0649],\n",
      "        [0.4386, 0.4431, 0.3005, 0.4135, 0.1950, 0.9334, 0.8793, 0.2556, 0.9884,\n",
      "         0.6250]])\n",
      "tensor([1, 5, 3, 7])\n",
      "Total loss for this batch: 2.4905779361724854\n"
     ]
    }
   ],
   "source": [
    "loss_fn = torch.nn.CrossEntropyLoss()\n",
    "\n",
    "# NB: Loss functions expect data in batches, so we're creating batches of 4\n",
    "# Represents the model's confidence in each of the 10 classes for a given input\n",
    "dummy_outputs = torch.rand(4, 10)\n",
    "# Represents the correct class among the 10 being tested\n",
    "dummy_labels = torch.tensor([1, 5, 3, 7])\n",
    "\n",
    "print(dummy_outputs)\n",
    "print(dummy_labels)\n",
    "\n",
    "loss = loss_fn(dummy_outputs, dummy_labels)\n",
    "print('Total loss for this batch: {}'.format(loss.item()))"
   ]
  },
  {
   "cell_type": "code",
   "execution_count": 5,
   "id": "a602c8d2",
   "metadata": {},
   "outputs": [],
   "source": [
    "# Optimizers specified in the torch.optim package\n",
    "optimizer = torch.optim.SGD(model.parameters(), lr=0.001, momentum=0.9)"
   ]
  },
  {
   "cell_type": "code",
   "execution_count": 6,
   "id": "9205ac7d",
   "metadata": {},
   "outputs": [],
   "source": [
    "def train_one_epoch(epoch_index, tb_writer):\n",
    "    running_loss = 0.\n",
    "    last_loss = 0.\n",
    "\n",
    "    # Here, we use enumerate(training_loader) instead of\n",
    "    # iter(training_loader) so that we can track the batch\n",
    "    # index and do some intra-epoch reporting\n",
    "    for i, data in enumerate(training_loader):\n",
    "        # Every data instance is an input + label pair\n",
    "        inputs, labels = data\n",
    "\n",
    "        # Zero your gradients for every batch!\n",
    "        optimizer.zero_grad()\n",
    "\n",
    "        # Make predictions for this batch\n",
    "        outputs = model(inputs)\n",
    "\n",
    "        # Compute the loss and its gradients\n",
    "        loss = loss_fn(outputs, labels)\n",
    "        loss.backward()\n",
    "\n",
    "        # Adjust learning weights\n",
    "        optimizer.step()\n",
    "\n",
    "        # Gather data and report\n",
    "        running_loss += loss.item()\n",
    "        if i % 1000 == 999:\n",
    "            last_loss = running_loss / 1000 # loss per batch\n",
    "            print('  batch {} loss: {}'.format(i + 1, last_loss))\n",
    "            tb_x = epoch_index * len(training_loader) + i + 1\n",
    "            tb_writer.add_scalar('Loss/train', last_loss, tb_x)\n",
    "            running_loss = 0.\n",
    "\n",
    "    return last_loss"
   ]
  },
  {
   "cell_type": "code",
   "execution_count": 7,
   "id": "7b1b99ba",
   "metadata": {},
   "outputs": [
    {
     "name": "stdout",
     "output_type": "stream",
     "text": [
      "EPOCH 1:\n",
      "  batch 1000 loss: 1.759099923044443\n",
      "  batch 2000 loss: 0.822590141478926\n",
      "  batch 3000 loss: 0.7029361466998234\n",
      "  batch 4000 loss: 0.6251696888655424\n",
      "  batch 5000 loss: 0.5824175010668113\n",
      "  batch 6000 loss: 0.5334093093103729\n",
      "  batch 7000 loss: 0.48214394829934465\n",
      "  batch 8000 loss: 0.45049974582367575\n",
      "  batch 9000 loss: 0.45402529160433913\n",
      "  batch 10000 loss: 0.4394705851711333\n",
      "  batch 11000 loss: 0.41024314919509924\n",
      "  batch 12000 loss: 0.39768720121332446\n",
      "  batch 13000 loss: 0.4116171223925776\n",
      "  batch 14000 loss: 0.40317774467240086\n",
      "  batch 15000 loss: 0.39608859479898817\n",
      "LOSS train 0.39608859479898817 valid 0.392422616481781\n",
      "EPOCH 2:\n",
      "  batch 1000 loss: 0.3739460364247207\n",
      "  batch 2000 loss: 0.3863809234520304\n",
      "  batch 3000 loss: 0.3587186082348926\n",
      "  batch 4000 loss: 0.3388231402327656\n",
      "  batch 5000 loss: 0.3840075478066865\n",
      "  batch 6000 loss: 0.37867130401937177\n",
      "  batch 7000 loss: 0.3402708300287195\n",
      "  batch 8000 loss: 0.37536180862539914\n",
      "  batch 9000 loss: 0.3714537793320487\n",
      "  batch 10000 loss: 0.35273773734911085\n",
      "  batch 11000 loss: 0.3337933424535731\n",
      "  batch 12000 loss: 0.32818396872477024\n",
      "  batch 13000 loss: 0.3297298214575858\n",
      "  batch 14000 loss: 0.3401425952212012\n",
      "  batch 15000 loss: 0.3361730837689356\n",
      "LOSS train 0.3361730837689356 valid 0.35711562633514404\n",
      "EPOCH 3:\n",
      "  batch 1000 loss: 0.3192989503299468\n",
      "  batch 2000 loss: 0.3384141991599754\n",
      "  batch 3000 loss: 0.30976551578054207\n",
      "  batch 4000 loss: 0.3212237903475725\n",
      "  batch 5000 loss: 0.31884851229989725\n",
      "  batch 6000 loss: 0.2975836349315468\n",
      "  batch 7000 loss: 0.31186343715757536\n",
      "  batch 8000 loss: 0.29534153273625996\n",
      "  batch 9000 loss: 0.3150843740971177\n",
      "  batch 10000 loss: 0.3041543236513244\n",
      "  batch 11000 loss: 0.32716232032722475\n",
      "  batch 12000 loss: 0.30452956267414266\n",
      "  batch 13000 loss: 0.3104245503773345\n",
      "  batch 14000 loss: 0.3095934162707417\n",
      "  batch 15000 loss: 0.30944827897654614\n",
      "LOSS train 0.30944827897654614 valid 0.3166707158088684\n",
      "EPOCH 4:\n",
      "  batch 1000 loss: 0.31071749829073086\n",
      "  batch 2000 loss: 0.29230565754987037\n",
      "  batch 3000 loss: 0.273741202497622\n",
      "  batch 4000 loss: 0.3006679018907307\n",
      "  batch 5000 loss: 0.2805948762624903\n",
      "  batch 6000 loss: 0.2887056652270039\n",
      "  batch 7000 loss: 0.30545744003694564\n",
      "  batch 8000 loss: 0.27918021703217893\n",
      "  batch 9000 loss: 0.28648150791034277\n",
      "  batch 10000 loss: 0.27951132122554556\n",
      "  batch 11000 loss: 0.29142933962590906\n",
      "  batch 12000 loss: 0.2906252421479894\n",
      "  batch 13000 loss: 0.2878139896089633\n",
      "  batch 14000 loss: 0.2628862387713416\n",
      "  batch 15000 loss: 0.3007181732951322\n",
      "LOSS train 0.3007181732951322 valid 0.30183106660842896\n",
      "EPOCH 5:\n",
      "  batch 1000 loss: 0.2562925124844769\n",
      "  batch 2000 loss: 0.2647475901540092\n",
      "  batch 3000 loss: 0.26656171809040824\n",
      "  batch 4000 loss: 0.2727116726281529\n",
      "  batch 5000 loss: 0.25222949205964346\n",
      "  batch 6000 loss: 0.2917891747802205\n",
      "  batch 7000 loss: 0.2824774666849917\n",
      "  batch 8000 loss: 0.2641564106492401\n",
      "  batch 9000 loss: 0.2712670719186217\n",
      "  batch 10000 loss: 0.2608671659146539\n",
      "  batch 11000 loss: 0.2856447940024318\n",
      "  batch 12000 loss: 0.2685609991508636\n",
      "  batch 13000 loss: 0.2685863329600797\n",
      "  batch 14000 loss: 0.27033910548743006\n",
      "  batch 15000 loss: 0.2797154604213829\n",
      "LOSS train 0.2797154604213829 valid 0.3037749230861664\n"
     ]
    }
   ],
   "source": [
    "torch.multiprocessing.set_sharing_strategy('file_system')\n",
    "# Initializing in a separate cell so we can easily add more epochs to the same run\n",
    "timestamp = datetime.now().strftime('%Y%m%d_%H%M%S')\n",
    "writer = SummaryWriter('runs/fashion_trainer_{}'.format(timestamp))\n",
    "epoch_number = 0\n",
    "\n",
    "EPOCHS = 5\n",
    "\n",
    "best_vloss = 1_000_000.\n",
    "\n",
    "for epoch in range(EPOCHS):\n",
    "    print('EPOCH {}:'.format(epoch_number + 1))\n",
    "\n",
    "    # Make sure gradient tracking is on, and do a pass over the data\n",
    "    model.train(True)\n",
    "    avg_loss = train_one_epoch(epoch_number, writer)\n",
    "\n",
    "    # We don't need gradients on to do reporting\n",
    "    model.train(False)\n",
    "\n",
    "    running_vloss = 0.0\n",
    "    for i, vdata in enumerate(validation_loader):\n",
    "        vinputs, vlabels = vdata\n",
    "        voutputs = model(vinputs)\n",
    "        vloss = loss_fn(voutputs, vlabels)\n",
    "        running_vloss += vloss\n",
    "\n",
    "    avg_vloss = running_vloss / (i + 1)\n",
    "    print('LOSS train {} valid {}'.format(avg_loss, avg_vloss))\n",
    "\n",
    "    # Log the running loss averaged per batch\n",
    "    # for both training and validation\n",
    "    writer.add_scalars('Training vs. Validation Loss',\n",
    "                    { 'Training' : avg_loss, 'Validation' : avg_vloss },\n",
    "                    epoch_number + 1)\n",
    "    writer.flush()\n",
    "\n",
    "    # Track best performance, and save the model's state\n",
    "    if avg_vloss < best_vloss:\n",
    "        best_vloss = avg_vloss\n",
    "        model_path = 'model_{}_{}'.format(timestamp, epoch_number)\n",
    "        torch.save(model.state_dict(), model_path)\n",
    "\n",
    "    epoch_number += 1"
   ]
  },
  {
   "cell_type": "code",
   "execution_count": 12,
   "id": "8ad3ca9b",
   "metadata": {},
   "outputs": [
    {
     "data": {
      "text/plain": [
       "<All keys matched successfully>"
      ]
     },
     "execution_count": 12,
     "metadata": {},
     "output_type": "execute_result"
    }
   ],
   "source": [
    "PATH = '/home/kaiserhamidrabbi/Documents/[0]-programming/computer-science-fundamentals/[4]-miscellaneous/[1]-pytorch-mastery/chapter-2/runs/model_20220205_233025_3'\n",
    "saved_model = GarmentClassifier()\n",
    "saved_model.load_state_dict(torch.load(PATH))"
   ]
  }
 ],
 "metadata": {
  "kernelspec": {
   "display_name": "pytorch",
   "language": "python",
   "name": "pytorch"
  },
  "language_info": {
   "codemirror_mode": {
    "name": "ipython",
    "version": 3
   },
   "file_extension": ".py",
   "mimetype": "text/x-python",
   "name": "python",
   "nbconvert_exporter": "python",
   "pygments_lexer": "ipython3",
   "version": "3.8.12"
  }
 },
 "nbformat": 4,
 "nbformat_minor": 5
}
