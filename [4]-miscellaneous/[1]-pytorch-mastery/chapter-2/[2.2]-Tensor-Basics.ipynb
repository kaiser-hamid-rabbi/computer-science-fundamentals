{
 "cells": [
  {
   "cell_type": "markdown",
   "id": "696d4a24",
   "metadata": {},
   "source": [
    "# PyTorch's Tensor Library"
   ]
  },
  {
   "cell_type": "code",
   "execution_count": 1,
   "id": "ed351623",
   "metadata": {
    "scrolled": true
   },
   "outputs": [
    {
     "name": "stdout",
     "output_type": "stream",
     "text": [
      "Scaler tensor: tensor([2.4618e-38])\n",
      "Vector tensor: tensor([-1.3507e-20,  3.0805e-41,  4.6487e-06])\n",
      "Matrix tensor: tensor([[4.6487e-06, 4.5720e-41, 4.6487e-06],\n",
      "        [4.5720e-41, 4.4842e-44, 0.0000e+00]])\n",
      "Tensor with 3 dimensions: tensor([[[-1.3504e-20,  3.0805e-41, -1.3504e-20],\n",
      "         [ 3.0805e-41,  8.9683e-44,  0.0000e+00]],\n",
      "\n",
      "        [[ 1.1210e-43,  0.0000e+00, -6.9115e-22],\n",
      "         [ 3.0805e-41,  4.6487e-06,  4.5720e-41]]])\n",
      "Tensor with 4 dimensions: tensor([[[[ 4.6488e-06,  4.5720e-41,  4.6488e-06],\n",
      "          [ 4.5720e-41,  1.4013e-45,  0.0000e+00]],\n",
      "\n",
      "         [[ 1.4013e-45,  0.0000e+00,  1.4013e-45],\n",
      "          [ 0.0000e+00,  0.0000e+00,  0.0000e+00]]],\n",
      "\n",
      "\n",
      "        [[[ 8.9683e-44,  0.0000e+00,  8.9683e-44],\n",
      "          [ 0.0000e+00, -1.3497e-20,  3.0805e-41]],\n",
      "\n",
      "         [[ 4.6487e-06,  4.5720e-41,  4.0357e-43],\n",
      "          [ 0.0000e+00,  1.1210e-43,  0.0000e+00]]]])\n"
     ]
    }
   ],
   "source": [
    "# Everything in pytorch is based on Tensor operations.\n",
    "# A tensor can have different dimensions\n",
    "# so it can be 1d, 2d, or even 3d and higher\n",
    "# scalar, vector, matrix, tensor\n",
    "\n",
    "import torch\n",
    "\n",
    "# torch.empty(size): uninitiallized\n",
    "x = torch.empty(1) # scalar\n",
    "print(f\"Scaler tensor: {x}\")\n",
    "\n",
    "x = torch.empty(3) # vector, 1D\n",
    "print(f\"Vector tensor: {x}\")\n",
    "\n",
    "x = torch.empty(2,3) # matrix, 2D\n",
    "print(f\"Matrix tensor: {x}\")\n",
    "\n",
    "x = torch.empty(2,2,3) # tensor, 3 dimensions\n",
    "\n",
    "y = torch.empty(2,2,2,3) # tensor, 4 dimensions\n",
    "\n",
    "print(f\"Tensor with 3 dimensions: {x}\")\n",
    "print(f\"Tensor with 4 dimensions: {y}\")"
   ]
  },
  {
   "cell_type": "code",
   "execution_count": 2,
   "id": "5ed1b9bf",
   "metadata": {},
   "outputs": [
    {
     "name": "stdout",
     "output_type": "stream",
     "text": [
      "tensor([[0.5674, 0.8914, 0.6147],\n",
      "        [0.2194, 0.9691, 0.3777],\n",
      "        [0.4788, 0.7643, 0.4240],\n",
      "        [0.2587, 0.4929, 0.1503],\n",
      "        [0.0815, 0.4421, 0.7711]])\n"
     ]
    }
   ],
   "source": [
    "# torch.rand(size): random numbers [0, 1]\n",
    "x = torch.rand(5, 3)\n",
    "print(x)"
   ]
  },
  {
   "cell_type": "code",
   "execution_count": 3,
   "id": "36a5376b",
   "metadata": {},
   "outputs": [
    {
     "name": "stdout",
     "output_type": "stream",
     "text": [
      "tensor([[0., 0., 0., 0.],\n",
      "        [0., 0., 0., 0.],\n",
      "        [0., 0., 0., 0.]])\n",
      "tensor([[1., 1., 1.],\n",
      "        [1., 1., 1.]])\n"
     ]
    }
   ],
   "source": [
    "# torch.zeros(size), fill with 0\n",
    "# torch.ones(size), fill with 1\n",
    "x = torch.zeros(3, 4)\n",
    "y = torch.ones(2, 3)\n",
    "print(x)\n",
    "print(y)"
   ]
  },
  {
   "cell_type": "code",
   "execution_count": 4,
   "id": "d2be8464",
   "metadata": {},
   "outputs": [
    {
     "name": "stdout",
     "output_type": "stream",
     "text": [
      "torch.Size([3, 4])\n",
      "torch.float32\n",
      "tensor([[0., 0., 0.],\n",
      "        [0., 0., 0.],\n",
      "        [0., 0., 0.],\n",
      "        [0., 0., 0.],\n",
      "        [0., 0., 0.]], dtype=torch.float16)\n",
      "torch.float16\n"
     ]
    }
   ],
   "source": [
    "# check size\n",
    "print(x.size())\n",
    "\n",
    "# check data type\n",
    "print(x.dtype)\n",
    "\n",
    "# specify types, float32 default\n",
    "x = torch.zeros(5, 3, dtype=torch.float16)\n",
    "print(x)\n",
    "\n",
    "# check type\n",
    "print(x.dtype)"
   ]
  },
  {
   "cell_type": "code",
   "execution_count": 5,
   "id": "bd84a759",
   "metadata": {},
   "outputs": [
    {
     "name": "stdout",
     "output_type": "stream",
     "text": [
      "tensor([5.5000, 3.0000])\n",
      "torch.Size([2])\n",
      "tensor([2.2000, 1.6000, 5.9000])\n",
      "torch.Size([3])\n"
     ]
    }
   ],
   "source": [
    "# construct from data\n",
    "data = [2.2, 1.6, 5.9]\n",
    "x = torch.tensor([5.5, 3])\n",
    "y = torch.tensor(data)\n",
    "print(x)\n",
    "print(x.size())\n",
    "print(y)\n",
    "print(y.size())"
   ]
  },
  {
   "cell_type": "code",
   "execution_count": 6,
   "id": "4fda7e26",
   "metadata": {},
   "outputs": [
    {
     "name": "stdout",
     "output_type": "stream",
     "text": [
      "tensor([5.5000, 3.0000], requires_grad=True)\n"
     ]
    }
   ],
   "source": [
    "# requires_grad argument\n",
    "# This will tell pytorch that it will need to calculate the gradients for this tensor\n",
    "# later in your optimization steps\n",
    "# i.e. this is a variable in your model that you want to optimize\n",
    "x = torch.tensor([5.5, 3], requires_grad=True)\n",
    "print(x)"
   ]
  },
  {
   "cell_type": "code",
   "execution_count": 7,
   "id": "d949f5af",
   "metadata": {},
   "outputs": [],
   "source": [
    "# Operations\n",
    "x = torch.rand(2, 2)\n",
    "y = torch.rand(2, 2)\n",
    "\n",
    "# elementwise addition\n",
    "z = x + y\n",
    "# torch.add(x,y)\n",
    "\n",
    "# in place addition, everythin with a trailing underscore is an inplace operation\n",
    "# i.e. it will modify the variable\n",
    "# y.add_(x)\n",
    "\n",
    "# substraction\n",
    "z = x - y\n",
    "z = torch.sub(x, y)\n",
    "\n",
    "# multiplication\n",
    "z = x * y\n",
    "z = torch.mul(x,y)\n",
    "\n",
    "# division\n",
    "z = x / y\n",
    "z = torch.div(x,y)"
   ]
  },
  {
   "cell_type": "code",
   "execution_count": 8,
   "id": "c771d1dc",
   "metadata": {},
   "outputs": [
    {
     "name": "stdout",
     "output_type": "stream",
     "text": [
      "tensor([[0.1503, 0.9595, 0.1726],\n",
      "        [0.8458, 0.0665, 0.4991],\n",
      "        [0.6215, 0.8518, 0.4204],\n",
      "        [0.3687, 0.1026, 0.9599],\n",
      "        [0.7674, 0.3754, 0.7562]])\n",
      "tensor([0.1503, 0.8458, 0.6215, 0.3687, 0.7674])\n",
      "tensor([0.8458, 0.0665, 0.4991])\n",
      "tensor(0.0665)\n"
     ]
    }
   ],
   "source": [
    "# Slicing\n",
    "x = torch.rand(5,3)\n",
    "print(x)\n",
    "print(x[:, 0]) # all rows, column 0\n",
    "print(x[1, :]) # row 1, all columns\n",
    "print(x[1,1]) # element at 1, 1"
   ]
  },
  {
   "cell_type": "code",
   "execution_count": 9,
   "id": "d0afa6df",
   "metadata": {},
   "outputs": [
    {
     "name": "stdout",
     "output_type": "stream",
     "text": [
      "0.06651777029037476\n"
     ]
    }
   ],
   "source": [
    "# Get the actual value if only 1 element in your tensor\n",
    "print(x[1,1].item())"
   ]
  },
  {
   "cell_type": "code",
   "execution_count": 10,
   "id": "1acb00f5",
   "metadata": {},
   "outputs": [
    {
     "name": "stdout",
     "output_type": "stream",
     "text": [
      "torch.Size([4, 4]) torch.Size([16]) torch.Size([2, 8]) torch.Size([4, 4])\n"
     ]
    }
   ],
   "source": [
    "# Reshape with torch.view()\n",
    "x = torch.randn(4, 4)\n",
    "y = x.view(16)\n",
    "z1= x.view(-1, 8)  # the size -1 is inferred from other dimensions\n",
    "z2= x.view(4, -1)  # the size -1 is inferred from other dimensions\n",
    "# if -1 it pytorch will automatically determine the necessary size\n",
    "print(x.size(), y.size(), z1.size(), z2.size())"
   ]
  },
  {
   "cell_type": "code",
   "execution_count": 11,
   "id": "dade66c7",
   "metadata": {},
   "outputs": [
    {
     "name": "stdout",
     "output_type": "stream",
     "text": [
      "tensor([1., 1., 1., 1., 1.])\n",
      "[1. 1. 1. 1. 1.]\n",
      "<class 'numpy.ndarray'>\n",
      "tensor([2., 2., 2., 2., 2.])\n",
      "[2. 2. 2. 2. 2.]\n"
     ]
    }
   ],
   "source": [
    "# Numpy\n",
    "# Converting a Torch Tensor to a NumPy array and vice versa is very easy\n",
    "import numpy as np\n",
    "\n",
    "a = torch.ones(5)\n",
    "print(a)\n",
    "\n",
    "# torch to numpy with .numpy()\n",
    "b = a.numpy()\n",
    "print(b)\n",
    "print(type(b))\n",
    "\n",
    "# Carful: If the Tensor is on the CPU (not the GPU),\n",
    "# both objects will share the same memory location, so changing one\n",
    "# will also change the other\n",
    "a.add_(1)\n",
    "print(a)\n",
    "print(b)"
   ]
  },
  {
   "cell_type": "code",
   "execution_count": 12,
   "id": "ff0122ce",
   "metadata": {},
   "outputs": [
    {
     "name": "stdout",
     "output_type": "stream",
     "text": [
      "[1. 1. 1. 1. 1.]\n",
      "tensor([1., 1., 1., 1., 1.], dtype=torch.float64)\n",
      "[2. 2. 2. 2. 2.]\n",
      "tensor([2., 2., 2., 2., 2.], dtype=torch.float64)\n"
     ]
    }
   ],
   "source": [
    "# numpy to torch with .from_numpy(x)\n",
    "import numpy as np\n",
    "a = np.ones(5)\n",
    "b = torch.from_numpy(a) # default dtype is torch.float64\n",
    "print(a)\n",
    "print(b)\n",
    "\n",
    "# again be careful when modifying\n",
    "a += 1\n",
    "print(a)\n",
    "print(b)\n",
    "# print(b.dtype)\n",
    "# b = torch.tensor(b, dtype=torch.float32)\n",
    "# print(b.dtype)"
   ]
  },
  {
   "cell_type": "code",
   "execution_count": 13,
   "id": "f08e5222",
   "metadata": {},
   "outputs": [],
   "source": [
    "# by default all tensors are created on the CPU,\n",
    "# but you can also move them to the GPU (only if it's available )\n",
    "if torch.cuda.is_available():\n",
    "    device = torch.device(\"cuda\")          # a CUDA device object\n",
    "    y = torch.ones_like(x, device=device)  # directly create a tensor on GPU\n",
    "    x = x.to(device)                       # or just use strings ``.to(\"cuda\")``\n",
    "    z = x + y\n",
    "    # z = z.numpy() # not possible because numpy cannot handle GPU tenors\n",
    "    # move to CPU again\n",
    "    z = z.to(\"cpu\")       # ``.to`` can also change dtype together!\n",
    "    # z = z.numpy()"
   ]
  }
 ],
 "metadata": {
  "kernelspec": {
   "display_name": "pytorch",
   "language": "python",
   "name": "pytorch"
  },
  "language_info": {
   "codemirror_mode": {
    "name": "ipython",
    "version": 3
   },
   "file_extension": ".py",
   "mimetype": "text/x-python",
   "name": "python",
   "nbconvert_exporter": "python",
   "pygments_lexer": "ipython3",
   "version": "3.8.12"
  }
 },
 "nbformat": 4,
 "nbformat_minor": 5
}
