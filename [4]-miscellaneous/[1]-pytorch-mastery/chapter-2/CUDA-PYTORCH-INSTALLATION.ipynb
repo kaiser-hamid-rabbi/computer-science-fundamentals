{
 "cells": [
  {
   "cell_type": "markdown",
   "id": "138f4a9f",
   "metadata": {},
   "source": [
    "# CUDA and PyTorch Installation"
   ]
  },
  {
   "cell_type": "code",
   "execution_count": 1,
   "id": "84406646",
   "metadata": {},
   "outputs": [
    {
     "name": "stdout",
     "output_type": "stream",
     "text": [
      "NVIDIA GeForce GTX 1060 6GB is available for computation!\n"
     ]
    }
   ],
   "source": [
    "# Installation Verification:\n",
    "import torch\n",
    "\n",
    "if torch.cuda.is_available():\n",
    "    print(f\"{torch.cuda.get_device_name(0)} is available for computation!\")\n",
    "else:\n",
    "    print(\"GPU is unavailable!\")"
   ]
  }
 ],
 "metadata": {
  "kernelspec": {
   "display_name": "pytorch",
   "language": "python",
   "name": "pytorch"
  },
  "language_info": {
   "codemirror_mode": {
    "name": "ipython",
    "version": 3
   },
   "file_extension": ".py",
   "mimetype": "text/x-python",
   "name": "python",
   "nbconvert_exporter": "python",
   "pygments_lexer": "ipython3",
   "version": "3.8.12"
  }
 },
 "nbformat": 4,
 "nbformat_minor": 5
}
