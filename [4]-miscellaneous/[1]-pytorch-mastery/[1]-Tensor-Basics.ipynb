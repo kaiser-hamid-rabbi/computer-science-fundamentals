{
 "cells": [
  {
   "cell_type": "markdown",
   "id": "c832a530",
   "metadata": {},
   "source": [
    "# Installation\n",
    "\n",
    "To download PyTorch, go to the link: https://pytorch.org/get-started/locally/\n",
    "\n",
    "- select OS: Linux/ Mac/ Windows\n",
    "- select Package: conda\n",
    "- select Python 3.7\n",
    "\n",
    "if Linux or Windows and want GPU support\n",
    "- select Cuda version 10.2/ 11.3\n",
    "\n",
    "Install Cuda Toolkit\n",
    "Development environment for creating high performance GPU-accelerated applications\n",
    "You need an NVIDIA GPU in your machine:\n",
    "\n",
    "https://developer.nvidia.com/cuda-downloads\n",
    "\n",
    "Legacy releases\n",
    "11.0 update 2\n",
    "select OS (e.g. Ubuntu)\n",
    "\n",
    "Download and install\n",
    "\n",
    "# Create conda environment and activate it \n",
    "`$ conda create -n pytorch python=3.7`\n",
    "\n",
    "`$ conda activate pytorch`\n",
    "\n",
    "# Install pytorch\n",
    "`$ conda install pytorch torchvision -c pytorch`\n",
    "\n",
    "or with GPU\n",
    "`$ conda install pytorch torchvision cudatoolkit=11.3 -c pytorch`"
   ]
  },
  {
   "cell_type": "code",
   "execution_count": 1,
   "id": "03299f59",
   "metadata": {},
   "outputs": [
    {
     "name": "stdout",
     "output_type": "stream",
     "text": [
      "NVIDIA GeForce GTX 1060 6GB is available for tensor operations!\n"
     ]
    }
   ],
   "source": [
    "# Installation Verification:\n",
    "import torch\n",
    "\n",
    "if torch.cuda.is_available():\n",
    "    print(f\"{torch.cuda.get_device_name(0)} is available for tensor operations!\")\n",
    "else:\n",
    "    print(\"GPU is unavailable!\")"
   ]
  },
  {
   "cell_type": "markdown",
   "id": "696d4a24",
   "metadata": {},
   "source": [
    "# Tensor Basics"
   ]
  },
  {
   "cell_type": "code",
   "execution_count": 2,
   "id": "ed351623",
   "metadata": {},
   "outputs": [
    {
     "name": "stdout",
     "output_type": "stream",
     "text": [
      "Scaler tensor: tensor([1.8563e-25])\n",
      "Vector tensor: tensor([1.7830e+25, 3.0952e-41, 1.8563e-25])\n",
      "Matrix tensor: tensor([[1.7841e+25, 3.0952e-41, 1.7841e+25],\n",
      "        [3.0952e-41, 2.9646e+35, 6.7305e+22]])\n",
      "Tensor with 3 dimensions: tensor([[[1.8563e-25, 4.5642e-41, 1.8563e-25],\n",
      "         [4.5642e-41, 4.4842e-44, 0.0000e+00]],\n",
      "\n",
      "        [[1.5695e-43, 0.0000e+00, 1.7837e+25],\n",
      "         [3.0952e-41, 1.7841e+25, 3.0952e-41]]])\n",
      "Tensor with 4 dimensions: tensor([[[[1.7841e+25, 3.0952e-41, 1.7828e+25],\n",
      "          [3.0952e-41, 4.4842e-44, 0.0000e+00]],\n",
      "\n",
      "         [[1.5835e-43, 0.0000e+00, 1.7841e+25],\n",
      "          [3.0952e-41, 1.8563e-25, 4.5642e-41]]],\n",
      "\n",
      "\n",
      "        [[[3.3631e-44, 0.0000e+00, 4.4571e-26],\n",
      "          [4.5642e-41, 1.4013e-45, 0.0000e+00]],\n",
      "\n",
      "         [[4.4813e-26, 4.5642e-41, 1.9618e-44],\n",
      "          [0.0000e+00, 1.9618e-44, 7.0065e-45]]]])\n"
     ]
    }
   ],
   "source": [
    "# Everything in pytorch is based on Tensor operations.\n",
    "# A tensor can have different dimensions\n",
    "# so it can be 1d, 2d, or even 3d and higher\n",
    "# scalar, vector, matrix, tensor\n",
    "\n",
    "# torch.empty(size): uninitiallized\n",
    "x = torch.empty(1) # scalar\n",
    "print(f\"Scaler tensor: {x}\")\n",
    "\n",
    "x = torch.empty(3) # vector, 1D\n",
    "print(f\"Vector tensor: {x}\")\n",
    "\n",
    "x = torch.empty(2,3) # matrix, 2D\n",
    "print(f\"Matrix tensor: {x}\")\n",
    "\n",
    "x = torch.empty(2,2,3) # tensor, 3 dimensions\n",
    "\n",
    "y = torch.empty(2,2,2,3) # tensor, 4 dimensions\n",
    "\n",
    "print(f\"Tensor with 3 dimensions: {x}\")\n",
    "print(f\"Tensor with 4 dimensions: {y}\")"
   ]
  },
  {
   "cell_type": "code",
   "execution_count": 3,
   "id": "5ed1b9bf",
   "metadata": {},
   "outputs": [
    {
     "name": "stdout",
     "output_type": "stream",
     "text": [
      "tensor([[0.6026, 0.8472, 0.0414],\n",
      "        [0.1983, 0.7870, 0.3825],\n",
      "        [0.6563, 0.7211, 0.4996],\n",
      "        [0.4738, 0.3011, 0.9224],\n",
      "        [0.1675, 0.9575, 0.4061]])\n"
     ]
    }
   ],
   "source": [
    "# torch.rand(size): random numbers [0, 1]\n",
    "x = torch.rand(5, 3)\n",
    "print(x)"
   ]
  },
  {
   "cell_type": "code",
   "execution_count": 4,
   "id": "36a5376b",
   "metadata": {},
   "outputs": [
    {
     "name": "stdout",
     "output_type": "stream",
     "text": [
      "tensor([[0., 0., 0., 0.],\n",
      "        [0., 0., 0., 0.],\n",
      "        [0., 0., 0., 0.]])\n",
      "tensor([[1., 1., 1.],\n",
      "        [1., 1., 1.]])\n"
     ]
    }
   ],
   "source": [
    "# torch.zeros(size), fill with 0\n",
    "# torch.ones(size), fill with 1\n",
    "x = torch.zeros(3, 4)\n",
    "y = torch.ones(2, 3)\n",
    "print(x)\n",
    "print(y)"
   ]
  },
  {
   "cell_type": "code",
   "execution_count": 5,
   "id": "d2be8464",
   "metadata": {},
   "outputs": [
    {
     "name": "stdout",
     "output_type": "stream",
     "text": [
      "torch.Size([3, 4])\n",
      "torch.float32\n",
      "tensor([[0., 0., 0.],\n",
      "        [0., 0., 0.],\n",
      "        [0., 0., 0.],\n",
      "        [0., 0., 0.],\n",
      "        [0., 0., 0.]], dtype=torch.float16)\n",
      "torch.float16\n"
     ]
    }
   ],
   "source": [
    "# check size\n",
    "print(x.size())\n",
    "\n",
    "# check data type\n",
    "print(x.dtype)\n",
    "\n",
    "# specify types, float32 default\n",
    "x = torch.zeros(5, 3, dtype=torch.float16)\n",
    "print(x)\n",
    "\n",
    "# check type\n",
    "print(x.dtype)"
   ]
  },
  {
   "cell_type": "code",
   "execution_count": 6,
   "id": "bd84a759",
   "metadata": {},
   "outputs": [
    {
     "name": "stdout",
     "output_type": "stream",
     "text": [
      "tensor([5.5000, 3.0000])\n",
      "torch.Size([2])\n",
      "tensor([2.2000, 1.6000, 5.9000])\n",
      "torch.Size([3])\n"
     ]
    }
   ],
   "source": [
    "# construct from data\n",
    "data = [2.2, 1.6, 5.9]\n",
    "x = torch.tensor([5.5, 3])\n",
    "y = torch.tensor(data)\n",
    "print(x)\n",
    "print(x.size())\n",
    "print(y)\n",
    "print(y.size())"
   ]
  },
  {
   "cell_type": "code",
   "execution_count": 7,
   "id": "4fda7e26",
   "metadata": {
    "scrolled": true
   },
   "outputs": [
    {
     "name": "stdout",
     "output_type": "stream",
     "text": [
      "tensor([5.5000, 3.0000], requires_grad=True)\n"
     ]
    }
   ],
   "source": [
    "# requires_grad argument\n",
    "# This will tell pytorch that it will need to calculate the gradients for this tensor\n",
    "# later in your optimization steps\n",
    "# i.e. this is a variable in your model that you want to optimize\n",
    "x = torch.tensor([5.5, 3], requires_grad=True)\n",
    "print(x)"
   ]
  },
  {
   "cell_type": "code",
   "execution_count": 8,
   "id": "d949f5af",
   "metadata": {},
   "outputs": [],
   "source": [
    "# Operations\n",
    "x = torch.rand(2, 2)\n",
    "y = torch.rand(2, 2)\n",
    "\n",
    "# elementwise addition\n",
    "z = x + y\n",
    "# torch.add(x,y)\n",
    "\n",
    "# in place addition, everythin with a trailing underscore is an inplace operation\n",
    "# i.e. it will modify the variable\n",
    "# y.add_(x)\n",
    "\n",
    "# substraction\n",
    "z = x - y\n",
    "z = torch.sub(x, y)\n",
    "\n",
    "# multiplication\n",
    "z = x * y\n",
    "z = torch.mul(x,y)\n",
    "\n",
    "# division\n",
    "z = x / y\n",
    "z = torch.div(x,y)"
   ]
  },
  {
   "cell_type": "code",
   "execution_count": 9,
   "id": "c771d1dc",
   "metadata": {},
   "outputs": [
    {
     "name": "stdout",
     "output_type": "stream",
     "text": [
      "tensor([[0.0590, 0.7561, 0.0766],\n",
      "        [0.3415, 0.5372, 0.5914],\n",
      "        [0.9169, 0.2995, 0.7301],\n",
      "        [0.8492, 0.7989, 0.3011],\n",
      "        [0.2853, 0.4269, 0.1823]])\n",
      "tensor([0.0590, 0.3415, 0.9169, 0.8492, 0.2853])\n",
      "tensor([0.3415, 0.5372, 0.5914])\n",
      "tensor(0.5372)\n"
     ]
    }
   ],
   "source": [
    "# Slicing\n",
    "x = torch.rand(5,3)\n",
    "print(x)\n",
    "print(x[:, 0]) # all rows, column 0\n",
    "print(x[1, :]) # row 1, all columns\n",
    "print(x[1,1]) # element at 1, 1"
   ]
  },
  {
   "cell_type": "code",
   "execution_count": 10,
   "id": "d0afa6df",
   "metadata": {},
   "outputs": [
    {
     "name": "stdout",
     "output_type": "stream",
     "text": [
      "0.5372061133384705\n"
     ]
    }
   ],
   "source": [
    "# Get the actual value if only 1 element in your tensor\n",
    "print(x[1,1].item())"
   ]
  },
  {
   "cell_type": "code",
   "execution_count": 11,
   "id": "1acb00f5",
   "metadata": {},
   "outputs": [
    {
     "name": "stdout",
     "output_type": "stream",
     "text": [
      "torch.Size([4, 4]) torch.Size([16]) torch.Size([2, 8]) torch.Size([4, 4])\n"
     ]
    }
   ],
   "source": [
    "# Reshape with torch.view()\n",
    "x = torch.randn(4, 4)\n",
    "y = x.view(16)\n",
    "z1= x.view(-1, 8)  # the size -1 is inferred from other dimensions\n",
    "z2= x.view(4, -1)  # the size -1 is inferred from other dimensions\n",
    "# if -1 it pytorch will automatically determine the necessary size\n",
    "print(x.size(), y.size(), z1.size(), z2.size())"
   ]
  },
  {
   "cell_type": "code",
   "execution_count": 12,
   "id": "dade66c7",
   "metadata": {},
   "outputs": [
    {
     "name": "stdout",
     "output_type": "stream",
     "text": [
      "tensor([1., 1., 1., 1., 1.])\n",
      "[1. 1. 1. 1. 1.]\n",
      "<class 'numpy.ndarray'>\n",
      "tensor([2., 2., 2., 2., 2.])\n",
      "[2. 2. 2. 2. 2.]\n"
     ]
    }
   ],
   "source": [
    "# Numpy\n",
    "# Converting a Torch Tensor to a NumPy array and vice versa is very easy\n",
    "import numpy as np\n",
    "\n",
    "a = torch.ones(5)\n",
    "print(a)\n",
    "\n",
    "# torch to numpy with .numpy()\n",
    "b = a.numpy()\n",
    "print(b)\n",
    "print(type(b))\n",
    "\n",
    "# Carful: If the Tensor is on the CPU (not the GPU),\n",
    "# both objects will share the same memory location, so changing one\n",
    "# will also change the other\n",
    "a.add_(1)\n",
    "print(a)\n",
    "print(b)"
   ]
  },
  {
   "cell_type": "code",
   "execution_count": 13,
   "id": "ff0122ce",
   "metadata": {},
   "outputs": [
    {
     "name": "stdout",
     "output_type": "stream",
     "text": [
      "[1. 1. 1. 1. 1.]\n",
      "tensor([1., 1., 1., 1., 1.], dtype=torch.float64)\n",
      "[2. 2. 2. 2. 2.]\n",
      "tensor([2., 2., 2., 2., 2.], dtype=torch.float64)\n"
     ]
    }
   ],
   "source": [
    "# numpy to torch with .from_numpy(x)\n",
    "import numpy as np\n",
    "a = np.ones(5)\n",
    "b = torch.from_numpy(a) # default dtype is torch.float64\n",
    "print(a)\n",
    "print(b)\n",
    "\n",
    "# again be careful when modifying\n",
    "a += 1\n",
    "print(a)\n",
    "print(b)\n",
    "# print(b.dtype)\n",
    "# b = torch.tensor(b, dtype=torch.float32)\n",
    "# print(b.dtype)"
   ]
  },
  {
   "cell_type": "code",
   "execution_count": 14,
   "id": "f08e5222",
   "metadata": {},
   "outputs": [],
   "source": [
    "# by default all tensors are created on the CPU,\n",
    "# but you can also move them to the GPU (only if it's available )\n",
    "if torch.cuda.is_available():\n",
    "    device = torch.device(\"cuda\")          # a CUDA device object\n",
    "    y = torch.ones_like(x, device=device)  # directly create a tensor on GPU\n",
    "    x = x.to(device)                       # or just use strings ``.to(\"cuda\")``\n",
    "    z = x + y\n",
    "    # z = z.numpy() # not possible because numpy cannot handle GPU tenors\n",
    "    # move to CPU again\n",
    "    z = z.to(\"cpu\")       # ``.to`` can also change dtype together!\n",
    "    # z = z.numpy()"
   ]
  }
 ],
 "metadata": {
  "kernelspec": {
   "display_name": "pytorch",
   "language": "python",
   "name": "pytorch"
  },
  "language_info": {
   "codemirror_mode": {
    "name": "ipython",
    "version": 3
   },
   "file_extension": ".py",
   "mimetype": "text/x-python",
   "name": "python",
   "nbconvert_exporter": "python",
   "pygments_lexer": "ipython3",
   "version": "3.8.12"
  }
 },
 "nbformat": 4,
 "nbformat_minor": 5
}
