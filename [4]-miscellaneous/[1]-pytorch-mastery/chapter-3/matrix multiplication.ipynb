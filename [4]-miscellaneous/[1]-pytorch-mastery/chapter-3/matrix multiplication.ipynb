{
 "cells": [
  {
   "cell_type": "code",
   "execution_count": 1,
   "id": "f56efbf4",
   "metadata": {},
   "outputs": [
    {
     "name": "stdout",
     "output_type": "stream",
     "text": [
      "GPU activated!\n"
     ]
    }
   ],
   "source": [
    "import torch\n",
    "if torch.cuda.is_available():\n",
    "    print(\"GPU activated!\")\n",
    "else:\n",
    "    print(\"No GPU, sorry!\")"
   ]
  },
  {
   "cell_type": "code",
   "execution_count": 2,
   "id": "573c4e82",
   "metadata": {},
   "outputs": [
    {
     "name": "stdout",
     "output_type": "stream",
     "text": [
      "True\n"
     ]
    }
   ],
   "source": [
    "print(torch.cuda.is_available())"
   ]
  },
  {
   "cell_type": "markdown",
   "id": "17505be4",
   "metadata": {},
   "source": [
    "# torch.mm()"
   ]
  },
  {
   "cell_type": "code",
   "execution_count": 3,
   "id": "a4bce1c5",
   "metadata": {},
   "outputs": [
    {
     "name": "stdout",
     "output_type": "stream",
     "text": [
      "tensor([[ 42,  36,  30],\n",
      "        [ 96,  81,  66],\n",
      "        [150, 126, 102]])\n"
     ]
    }
   ],
   "source": [
    "import torch\n",
    "  \n",
    "mat_1 = torch.tensor([[1, 2, 3],\n",
    "                      [4, 5, 6],\n",
    "                      [7, 8, 9]])\n",
    "  \n",
    "mat_2 = torch.tensor([[3, 2, 1],\n",
    "                      [6, 5, 4],\n",
    "                      [9, 8, 7]])\n",
    "  \n",
    "result = torch.mm(mat_1, mat_2, out=None)\n",
    "print(result)"
   ]
  },
  {
   "cell_type": "code",
   "execution_count": 4,
   "id": "c74a7d29",
   "metadata": {},
   "outputs": [
    {
     "name": "stdout",
     "output_type": "stream",
     "text": [
      "tensor([[32, 33, 66],\n",
      "        [15, 17, 27]])\n"
     ]
    }
   ],
   "source": [
    "mat_1 = torch.tensor([[5, 4],\n",
    "                      [3, 1]])\n",
    "  \n",
    "mat_2 = torch.tensor([[4, 5, 6],\n",
    "                      [3, 2, 9]])\n",
    "  \n",
    "result = torch.mm(mat_1, mat_2, out=None)\n",
    "print(result)"
   ]
  },
  {
   "cell_type": "markdown",
   "id": "9f93b6e3",
   "metadata": {},
   "source": [
    "# torch.matmul()"
   ]
  },
  {
   "cell_type": "code",
   "execution_count": 5,
   "id": "d6c2145f",
   "metadata": {},
   "outputs": [
    {
     "name": "stdout",
     "output_type": "stream",
     "text": [
      "1 dimensional tensors : tensor(68)\n",
      "\n",
      "3x3 dimensional tensors :\n",
      " tensor([[ 38,  21,  28],\n",
      "        [ 86,  51,  64],\n",
      "        [134,  81, 100]])\n"
     ]
    }
   ],
   "source": [
    "# Both arguments in 1D\n",
    "vec_1 = torch.tensor([1, 3, 9])\n",
    "vec_2 = torch.tensor([2, 4, 6])\n",
    "  \n",
    "print(\"1 dimensional tensors :\", torch.matmul(vec_1, vec_2))\n",
    "  \n",
    "# Both arguments in 2D\n",
    "mat_1 = torch.tensor([[1, 2, 3],\n",
    "                      [4, 5, 6],\n",
    "                      [7, 8, 9]])\n",
    "  \n",
    "mat_2 = torch.tensor([[3, 2, 1],\n",
    "                      [4, 5, 6],\n",
    "                      [9, 3, 5]])\n",
    "  \n",
    "out = torch.matmul(mat_1, mat_2)\n",
    "  \n",
    "print(\"\\n3x3 dimensional tensors :\\n\", out)"
   ]
  },
  {
   "cell_type": "code",
   "execution_count": 6,
   "id": "9ab65771",
   "metadata": {},
   "outputs": [
    {
     "name": "stdout",
     "output_type": "stream",
     "text": [
      "\n",
      "1D-2D multiplication :\n",
      " tensor([ 68, 104, 176])\n",
      "\n",
      "2D-1D multiplication :\n",
      " tensor([ 97, 100,  52])\n"
     ]
    }
   ],
   "source": [
    "# first argument is a 1D tensor and second argument is a 2D tensor\n",
    "mat1_1 = torch.tensor([4, 8, 12])\n",
    "  \n",
    "mat1_2 = torch.tensor([[6, 3, 2],\n",
    "                       [4, 7, 9],\n",
    "                       [1, 3, 8]])\n",
    "\n",
    "# assigning to output tensor\n",
    "out_1 = torch.matmul(mat1_1, mat1_2)\n",
    "print(\"\\n1D-2D multiplication :\\n\", out_1)\n",
    "  \n",
    "# first argument is a 2D tensor and second argument is a 1D tensor\n",
    "mat2_1 = torch.tensor([[5, 4, 9],\n",
    "                       [8, 2, 6],\n",
    "                       [1, 3, 7]])\n",
    "  \n",
    "mat2_2 = torch.tensor([8, 3, 5])\n",
    "  \n",
    "# assigning to output tensor\n",
    "out_2 = torch.matmul(mat2_1, mat2_2)\n",
    "  \n",
    "print(\"\\n2D-1D multiplication :\\n\", out_2)"
   ]
  },
  {
   "cell_type": "code",
   "execution_count": 7,
   "id": "115e68f3",
   "metadata": {},
   "outputs": [
    {
     "name": "stdout",
     "output_type": "stream",
     "text": [
      "matrix A:\n",
      " tensor([[[ 0.8791,  0.4386,  1.5736],\n",
      "         [ 2.0985,  0.7290, -1.2222],\n",
      "         [ 1.2666,  1.0298,  0.7199]],\n",
      "\n",
      "        [[-0.9066,  0.7193,  0.8705],\n",
      "         [ 2.0638, -0.2563,  0.7273],\n",
      "         [ 0.6730,  1.9980, -0.3497]]])\n",
      "\n",
      "matrix B:\n",
      " tensor([-0.6926, -0.2329, -0.0610])\n",
      "\n",
      "Output:\n",
      " tensor([[-0.8071, -1.5487, -1.1611],\n",
      "        [ 0.4073, -1.4141, -0.9102]])\n"
     ]
    }
   ],
   "source": [
    "# Creating tensors using randn()\n",
    "mat_1 = torch.randn(2, 3, 3)\n",
    "mat_2 = torch.randn(3)\n",
    "  \n",
    "# printing the matrices\n",
    "print(\"matrix A:\\n\", mat_1)\n",
    "print(\"\\nmatrix B:\\n\", mat_2)\n",
    "  \n",
    "# output\n",
    "print(\"\\nOutput:\\n\", torch.matmul(mat_1, mat_2))"
   ]
  },
  {
   "cell_type": "markdown",
   "id": "96ae9d72",
   "metadata": {},
   "source": [
    "# torch.bmm()"
   ]
  },
  {
   "cell_type": "code",
   "execution_count": 8,
   "id": "49dd1e4e",
   "metadata": {},
   "outputs": [
    {
     "name": "stdout",
     "output_type": "stream",
     "text": [
      "matrix A:\n",
      " tensor([[[ 0.7175,  0.1087, -1.4721],\n",
      "         [ 1.3329,  2.5658,  0.7460],\n",
      "         [-0.0374,  0.1123, -0.3050]],\n",
      "\n",
      "        [[ 0.0235,  1.4923, -0.3238],\n",
      "         [ 0.9407,  0.5569,  0.6364],\n",
      "         [ 0.4625, -0.0409,  0.3578]]])\n",
      "\n",
      "matrix B:\n",
      " tensor([[[-0.7249, -1.2981,  0.8067, -0.1779],\n",
      "         [ 0.3844, -0.3646,  0.3373,  0.7014],\n",
      "         [-0.7754,  0.2107,  0.0608, -0.0081]],\n",
      "\n",
      "        [[ 2.1600, -0.5071, -2.1004, -0.5750],\n",
      "         [-0.8392,  0.2148, -0.0936, -0.1812],\n",
      "         [ 0.5169, -0.6990,  0.8720, -0.7427]]])\n",
      "\n",
      "Output:\n",
      " tensor([[[ 0.6631, -1.2812,  0.5260, -0.0394],\n",
      "         [-0.5585, -2.5086,  1.9860,  1.5564],\n",
      "         [ 0.3068, -0.0566, -0.0109,  0.0879]],\n",
      "\n",
      "        [[-1.3690,  0.5350, -0.4714, -0.0434],\n",
      "         [ 1.8936, -0.8023, -1.4731, -1.1146],\n",
      "         [ 1.2183, -0.4935, -0.6556, -0.5243]]])\n"
     ]
    }
   ],
   "source": [
    "# 3D matrices\n",
    "mat_1 = torch.randn(2, 3, 3)\n",
    "mat_2 = torch.randn(2, 3, 4)\n",
    "  \n",
    "print(\"matrix A:\\n\",mat_1)\n",
    "print(\"\\nmatrix B:\\n\",mat_2)\n",
    "  \n",
    "print(\"\\nOutput:\\n\",torch.bmm(mat_1,mat_2))"
   ]
  },
  {
   "cell_type": "markdown",
   "id": "b7c8a1a8",
   "metadata": {},
   "source": [
    "# @ operator"
   ]
  },
  {
   "cell_type": "code",
   "execution_count": 9,
   "id": "5d4c8dce",
   "metadata": {},
   "outputs": [
    {
     "name": "stdout",
     "output_type": "stream",
     "text": [
      "Output of 1D matrices:\n",
      " tensor(110)\n",
      "\n",
      "Output of 2D matrices:\n",
      " tensor([[ 18,  36,  41],\n",
      "        [ 52, 104,  94],\n",
      "        [ 59, 111, 125]])\n",
      "\n",
      "Output of N-D matrices:\n",
      " tensor([[[ 1.5859, -0.5391, -1.4634, -1.6525],\n",
      "         [ 1.6657,  0.2138, -1.7027, -2.2431],\n",
      "         [ 5.9416,  0.8309,  0.2630, -0.4056]],\n",
      "\n",
      "        [[ 5.2001, -2.8765,  2.3493, -1.8049],\n",
      "         [-3.3540, -0.5340, -3.0852,  4.4201],\n",
      "         [-0.4002, -1.1925, -2.4772,  0.4278]]])\n",
      "\n",
      " Output of Mixed matrices:\n",
      " tensor([ 648, 1240, 1352])\n"
     ]
    }
   ],
   "source": [
    "# 1 dimensional matrices\n",
    "oneD_1 = torch.tensor([4, 2, 8])\n",
    "oneD_2 = torch.tensor([7, 5, 9])\n",
    "  \n",
    "  \n",
    "# 2 dimensional matrices\n",
    "twoD_1 = torch.tensor([[3, 2, 1],\n",
    "                       [7, 3, 9],\n",
    "                       [8, 7, 3]])\n",
    "twoD_2 = torch.tensor([[1, 5, 7],\n",
    "                       [6, 8, 9],\n",
    "                       [3, 5, 2]])\n",
    "  \n",
    "# N-dimensional matrices (N>2)\n",
    "  \n",
    "# 2x3x3 dimensional matrix\n",
    "ND_1 = torch.tensor([[[-1.3063, -0.2510,  0.9827],\n",
    "                      [-0.5879, -1.3373,  0.3768],\n",
    "                      [-1.2140, -1.5296, -1.0637]],\n",
    "\n",
    "                     [[ 1.2284,  0.7159,  1.0088],\n",
    "                      [-2.0181,  1.7579, -0.7130],\n",
    "                      [-0.1003,  0.9969, -0.7118]]])\n",
    "  \n",
    "# 2x3x4 dimensional matrix\n",
    "ND_2 = torch.tensor([[[-2.4476,  0.1451, -0.1343, -0.0566],\n",
    "                      [-0.6806, -0.3490,  0.9293,  1.3008],\n",
    "                      [-1.8136, -0.4449, -1.4303, -1.4246]],\n",
    "\n",
    "                     [[ 1.9980, -0.9932,  0.0822, -1.9171],\n",
    "                      [ 1.1568, -1.6384, -0.5876,  0.4152],\n",
    "                      [ 1.9009, -0.4793,  2.6457,  0.2506]]])\n",
    "  \n",
    "print(\"Output of 1D matrices:\\n\", oneD_1 @ oneD_2)\n",
    "print(\"\\nOutput of 2D matrices:\\n\", twoD_1 @ twoD_2)\n",
    "print(\"\\nOutput of N-D matrices:\\n\", ND_1 @ ND_2)\n",
    "print(\"\\n Output of Mixed matrices:\\n\", oneD_1 @ twoD_1 @ twoD_2)"
   ]
  },
  {
   "cell_type": "markdown",
   "id": "da071f03",
   "metadata": {},
   "source": [
    "# torch.mul()"
   ]
  },
  {
   "cell_type": "code",
   "execution_count": 10,
   "id": "196139a9",
   "metadata": {},
   "outputs": [
    {
     "name": "stdout",
     "output_type": "stream",
     "text": [
      "Original Tensor t:\n",
      " tensor([3.6700, 8.4500, 7.4300, 2.8900])\n",
      "Element-wise multiplication result:\n",
      " tensor([18.3500, 42.2500, 37.1500, 14.4500])\n",
      "Element-wise multiplication result:\n",
      " tensor([18.3500, 42.2500, 37.1500, 14.4500])\n",
      "Element-wise multiplication result:\n",
      " tensor([18.3500, 42.2500, 37.1500, 14.4500])\n"
     ]
    }
   ],
   "source": [
    "# torch.mul() to perform element-wise multiplication\n",
    "import torch\n",
    "\n",
    "# Create a tensor\n",
    "t = torch.Tensor([3.67, 8.45, 7.43, 2.89])\n",
    "print(\"Original Tensor t:\\n\", t)\n",
    "\n",
    "# Way -1: Multiply a scalar value to a tensor\n",
    "v = torch.mul(t, 5)\n",
    "print(\"Element-wise multiplication result:\\n\", v)\n",
    "\n",
    "# Way -2: Same result can also be obtained as below\n",
    "t1 = torch.Tensor([5])\n",
    "w = torch.mul(t, t1)\n",
    "print(\"Element-wise multiplication result:\\n\", w)\n",
    "\n",
    "# Way -3: Other way to do above operation\n",
    "t2 = torch.Tensor([5,5,5,5])\n",
    "x = torch.mul(t, t2)\n",
    "print(\"Element-wise multiplication result:\\n\", x)"
   ]
  },
  {
   "cell_type": "code",
   "execution_count": 11,
   "id": "377bd1fc",
   "metadata": {},
   "outputs": [
    {
     "name": "stdout",
     "output_type": "stream",
     "text": [
      "T1:\n",
      " tensor([[5., 4.],\n",
      "        [3., 8.]])\n",
      "T2:\n",
      " tensor([4., 7.])\n",
      "Element-wise multiplication result:\n",
      " tensor([[20., 28.],\n",
      "        [12., 56.]])\n"
     ]
    }
   ],
   "source": [
    "# Create a 2D tensor\n",
    "T1 = torch.Tensor([[5,4],[3,8]])\n",
    "\n",
    "# Create a 1D tensor\n",
    "T2 = torch.Tensor([4, 7])\n",
    "print(\"T1:\\n\", T1)\n",
    "print(\"T2:\\n\", T2)\n",
    "\n",
    "# Multiply 1-D tensor with 2-D tensor\n",
    "v = torch.mul(T1, T2) # v = torch.mul(T2,T1)\n",
    "print(\"Element-wise multiplication result:\\n\", v)"
   ]
  },
  {
   "cell_type": "code",
   "execution_count": 12,
   "id": "1e84cdf1",
   "metadata": {},
   "outputs": [
    {
     "name": "stdout",
     "output_type": "stream",
     "text": [
      "T1:\n",
      " tensor([[5., 3.],\n",
      "        [2., 1.]])\n",
      "T2:\n",
      " tensor([[6., 8.],\n",
      "        [1., 4.]])\n",
      "Element-wise subtraction result:\n",
      " tensor([[30., 24.],\n",
      "        [ 2.,  4.]])\n"
     ]
    }
   ],
   "source": [
    "# Create two 2D tensors\n",
    "T1 = torch.Tensor([[5,3],[2,1]])\n",
    "T2 = torch.Tensor([[6,8],[1,4]])\n",
    "print(\"T1:\\n\", T1)\n",
    "print(\"T2:\\n\", T2)\n",
    "\n",
    "# Multiply above two 2D tensors\n",
    "v = torch.mul(T1,T2)\n",
    "print(\"Element-wise subtraction result:\\n\", v)"
   ]
  }
 ],
 "metadata": {
  "kernelspec": {
   "display_name": "pytorch",
   "language": "python",
   "name": "pytorch"
  },
  "language_info": {
   "codemirror_mode": {
    "name": "ipython",
    "version": 3
   },
   "file_extension": ".py",
   "mimetype": "text/x-python",
   "name": "python",
   "nbconvert_exporter": "python",
   "pygments_lexer": "ipython3",
   "version": "3.8.12"
  }
 },
 "nbformat": 4,
 "nbformat_minor": 5
}
