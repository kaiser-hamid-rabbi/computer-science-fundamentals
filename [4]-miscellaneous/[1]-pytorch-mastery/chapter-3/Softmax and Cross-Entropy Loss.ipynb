{
 "cells": [
  {
   "cell_type": "code",
   "execution_count": 4,
   "id": "f56efbf4",
   "metadata": {},
   "outputs": [
    {
     "name": "stdout",
     "output_type": "stream",
     "text": [
      "GPU activated!\n"
     ]
    }
   ],
   "source": [
    "import torch\n",
    "if torch.cuda.is_available():\n",
    "    print(\"GPU activated!\")\n",
    "else:\n",
    "    print(\"No GPU, sorry!\")"
   ]
  },
  {
   "cell_type": "code",
   "execution_count": 6,
   "id": "573c4e82",
   "metadata": {},
   "outputs": [
    {
     "name": "stdout",
     "output_type": "stream",
     "text": [
      "True\n"
     ]
    }
   ],
   "source": [
    "print(torch.cuda.is_available())"
   ]
  },
  {
   "cell_type": "markdown",
   "id": "17505be4",
   "metadata": {},
   "source": [
    "# torch.mm()"
   ]
  },
  {
   "cell_type": "code",
   "execution_count": 9,
   "id": "a4bce1c5",
   "metadata": {},
   "outputs": [
    {
     "name": "stdout",
     "output_type": "stream",
     "text": [
      "tensor([[10, 28, 28],\n",
      "        [27, 73, 62],\n",
      "        [13, 37, 53]])\n"
     ]
    }
   ],
   "source": [
    "import torch\n",
    "  \n",
    "mat_1 = torch.tensor([[1, 2, 3],\n",
    "                      [4, 3, 8],\n",
    "                      [1, 7, 2]])\n",
    "  \n",
    "mat_2 = torch.tensor([[2, 4, 1],\n",
    "                      [1, 3, 6],\n",
    "                      [2, 6, 5]])\n",
    "  \n",
    "result = torch.mm(mat_1, mat_2, out=None)\n",
    "print(result)"
   ]
  },
  {
   "cell_type": "code",
   "execution_count": 11,
   "id": "c74a7d29",
   "metadata": {},
   "outputs": [
    {
     "name": "stdout",
     "output_type": "stream",
     "text": [
      "tensor([[ 4, 10, 13],\n",
      "        [11, 25, 22]])\n"
     ]
    }
   ],
   "source": [
    "mat_1 = torch.tensor([[1, 2],\n",
    "                      [4, 3]])\n",
    "  \n",
    "mat_2 = torch.tensor([[2, 4, 1],\n",
    "                      [1, 3, 6]])\n",
    "  \n",
    "result = torch.mm(mat_1, mat_2, out=None)\n",
    "print(result)"
   ]
  },
  {
   "cell_type": "markdown",
   "id": "9f93b6e3",
   "metadata": {},
   "source": [
    "# torch.matmul()"
   ]
  },
  {
   "cell_type": "code",
   "execution_count": 12,
   "id": "d6c2145f",
   "metadata": {},
   "outputs": [
    {
     "name": "stdout",
     "output_type": "stream",
     "text": [
      "Single dimensional tensors : tensor(36)\n",
      "\n",
      "3x3 dimensional tensors :\n",
      " tensor([[10, 28, 28],\n",
      "        [27, 73, 62],\n",
      "        [13, 37, 53]])\n"
     ]
    }
   ],
   "source": [
    "# both arguments 1D\n",
    "vec_1 = torch.tensor([3, 6, 2])\n",
    "vec_2 = torch.tensor([4, 1, 9])\n",
    "  \n",
    "print(\"Single dimensional tensors :\", torch.matmul(vec_1, vec_2))\n",
    "  \n",
    "# both arguments 2D\n",
    "mat_1 = torch.tensor([[1, 2, 3],\n",
    "                      [4, 3, 8],\n",
    "                      [1, 7, 2]])\n",
    "  \n",
    "mat_2 = torch.tensor([[2, 4, 1],\n",
    "                      [1, 3, 6],\n",
    "                      [2, 6, 5]])\n",
    "  \n",
    "out = torch.matmul(mat_1, mat_2)\n",
    "  \n",
    "print(\"\\n3x3 dimensional tensors :\\n\", out)"
   ]
  },
  {
   "cell_type": "code",
   "execution_count": 13,
   "id": "9ab65771",
   "metadata": {},
   "outputs": [
    {
     "name": "stdout",
     "output_type": "stream",
     "text": [
      "\n",
      "1D-2D multiplication :\n",
      " tensor([29, 38, 61])\n",
      "\n",
      "2D-1D multiplication :\n",
      " tensor([21, 61, 59])\n"
     ]
    }
   ],
   "source": [
    "# first argument 1D and second argument 2D\n",
    "mat1_1 = torch.tensor([3, 6, 2])\n",
    "  \n",
    "mat1_2 = torch.tensor([[1, 2, 3],\n",
    "                       [4, 3, 8],\n",
    "                       [1, 7, 2]])\n",
    "  \n",
    "out_1 = torch.matmul(mat1_1, mat1_2)\n",
    "print(\"\\n1D-2D multiplication :\\n\", out_1)\n",
    "  \n",
    "# first argument 2D and second argument 1D\n",
    "mat2_1 = torch.tensor([[2, 4, 1],\n",
    "                       [1, 3, 6],\n",
    "                       [2, 6, 5]])\n",
    "  \n",
    "mat2_2 = torch.tensor([4, 1, 9])\n",
    "  \n",
    "# assigning to output tensor\n",
    "out_2 = torch.matmul(mat2_1, mat2_2)\n",
    "  \n",
    "print(\"\\n2D-1D multiplication :\\n\", out_2)"
   ]
  },
  {
   "cell_type": "code",
   "execution_count": 14,
   "id": "115e68f3",
   "metadata": {},
   "outputs": [
    {
     "name": "stdout",
     "output_type": "stream",
     "text": [
      "matrix A :\n",
      " tensor([[[ 1.0489, -0.4715, -0.1354],\n",
      "         [-1.6237, -2.3288, -0.1502],\n",
      "         [-0.9784,  0.4239, -0.0952]],\n",
      "\n",
      "        [[ 2.2182,  0.8941, -0.1166],\n",
      "         [ 1.1528,  1.2465, -0.6772],\n",
      "         [ 1.4247,  1.1962,  0.1975]]])\n",
      "\n",
      "matrix B :\n",
      " tensor([ 1.9160, -0.7550, -0.4061])\n",
      "\n",
      "Output :\n",
      " tensor([[ 2.4207, -1.2917, -2.1561],\n",
      "        [ 3.6225,  1.5428,  1.7464]])\n"
     ]
    }
   ],
   "source": [
    "# creating Tensors using randn()\n",
    "mat_1 = torch.randn(2, 3, 3)\n",
    "mat_2 = torch.randn(3)\n",
    "  \n",
    "# printing the matrices\n",
    "print(\"matrix A :\\n\", mat_1)\n",
    "print(\"\\nmatrix B :\\n\", mat_2)\n",
    "  \n",
    "# output\n",
    "print(\"\\nOutput :\\n\", torch.matmul(mat_1, mat_2))"
   ]
  },
  {
   "cell_type": "markdown",
   "id": "96ae9d72",
   "metadata": {},
   "source": [
    "# torch.bmm()"
   ]
  },
  {
   "cell_type": "code",
   "execution_count": 15,
   "id": "49dd1e4e",
   "metadata": {},
   "outputs": [
    {
     "name": "stdout",
     "output_type": "stream",
     "text": [
      "matrix A :\n",
      " tensor([[[ 0.2582, -1.7416, -0.1094],\n",
      "         [-1.4233,  0.6656,  1.6345],\n",
      "         [ 0.0192,  0.7255, -1.3925]],\n",
      "\n",
      "        [[-0.1162, -1.6027, -1.0653],\n",
      "         [ 0.8615,  0.3176,  0.3048],\n",
      "         [-0.4855,  0.9459, -1.2246]]])\n",
      "\n",
      "matrix B :\n",
      " tensor([[[ 0.4430, -0.8563, -0.7656, -0.2774],\n",
      "         [-0.6127,  0.8453, -0.1593,  0.4870],\n",
      "         [ 0.5344,  1.2098,  0.0248, -0.9675]],\n",
      "\n",
      "        [[ 0.2728,  1.4921, -1.2494,  1.2886],\n",
      "         [-0.2100,  0.0187,  0.3796,  0.6974],\n",
      "         [-0.0662, -0.6768, -0.3913,  1.2506]]])\n",
      "\n",
      "Output :\n",
      " tensor([[[ 1.1229, -1.8257,  0.0771, -0.8139],\n",
      "         [-0.1649,  3.7588,  1.0242, -0.8623],\n",
      "         [-1.1802, -1.0877, -0.1648,  1.6952]],\n",
      "\n",
      "        [[ 0.3755,  0.5177, -0.0463, -2.5996],\n",
      "         [ 0.1481,  1.0850, -1.0750,  1.7128],\n",
      "         [-0.2500,  0.1222,  1.4447, -1.4973]]])\n"
     ]
    }
   ],
   "source": [
    "# 3D matrices\n",
    "mat_1 = torch.randn(2, 3, 3)\n",
    "mat_2 = torch.randn(2, 3, 4)\n",
    "  \n",
    "print(\"matrix A :\\n\",mat_1)\n",
    "print(\"\\nmatrix B :\\n\",mat_2)\n",
    "  \n",
    "print(\"\\nOutput :\\n\",torch.bmm(mat_1,mat_2))"
   ]
  },
  {
   "cell_type": "markdown",
   "id": "b7c8a1a8",
   "metadata": {},
   "source": [
    "# @ operator"
   ]
  },
  {
   "cell_type": "code",
   "execution_count": 16,
   "id": "5d4c8dce",
   "metadata": {},
   "outputs": [
    {
     "name": "stdout",
     "output_type": "stream",
     "text": [
      "1D matrices output :\n",
      " tensor(36)\n",
      "\n",
      "2D matrices output :\n",
      " tensor([[10, 28, 28],\n",
      "        [27, 73, 62],\n",
      "        [13, 37, 53]])\n",
      "\n",
      "N-D matrices output :\n",
      " tensor([[[ 0.7953,  0.5231, -0.7751, -0.1757],\n",
      "         [ 3.9030, -0.8274, -5.1287, -0.5915],\n",
      "         [ 2.8487, -0.2372, -3.4850, -1.3212]],\n",
      "\n",
      "        [[ 0.6531, -0.1637, -1.1250,  0.2633],\n",
      "         [-1.5532,  0.4309,  1.6526,  2.5166],\n",
      "         [ 0.6491,  0.8869,  1.4995, -2.3370]]])\n",
      "\n",
      " Mixed matrices output :\n",
      " tensor([218, 596, 562])\n"
     ]
    }
   ],
   "source": [
    "# single dimensional matrices\n",
    "oneD_1 = torch.tensor([3, 6, 2])\n",
    "oneD_2 = torch.tensor([4, 1, 9])\n",
    "  \n",
    "  \n",
    "# two dimensional matrices\n",
    "twoD_1 = torch.tensor([[1, 2, 3],\n",
    "                       [4, 3, 8],\n",
    "                       [1, 7, 2]])\n",
    "twoD_2 = torch.tensor([[2, 4, 1],\n",
    "                       [1, 3, 6],\n",
    "                       [2, 6, 5]])\n",
    "  \n",
    "# N-dimensional matrices (N>2)\n",
    "  \n",
    "# 2x3x3 dimensional matrix\n",
    "ND_1 = torch.tensor([[[-0.0135, -0.9197, -0.3395],\n",
    "                      [-1.0369, -1.3242,  1.4799],\n",
    "                      [-0.0182, -1.2917,  0.6575]],\n",
    "  \n",
    "                     [[-0.3585, -0.0478,  0.4674],\n",
    "                      [-0.6688, -0.9217, -1.2612],\n",
    "                      [1.6323, -0.0640,  0.4357]]])\n",
    "  \n",
    "# 2x3x4 dimensional matrix\n",
    "ND_2 = torch.tensor([[[0.2431, -0.1044, -0.1437, -1.4982],\n",
    "                      [-1.4318, -0.2510,  1.6247,  0.5623],\n",
    "                      [1.5265, -0.8568, -2.1125, -0.9463]],\n",
    "  \n",
    "                     [[0.0182,  0.5207,  1.2890, -1.3232],\n",
    "                      [-0.2275, -0.8006, -0.6909, -1.0108],\n",
    "                      [1.3881, -0.0327, -1.4890, -0.5550]]])\n",
    "  \n",
    "print(\"1D matrices output :\\n\", oneD_1 @ oneD_2)\n",
    "print(\"\\n2D matrices output :\\n\", twoD_1 @ twoD_2)\n",
    "print(\"\\nN-D matrices output :\\n\", ND_1 @ ND_2)\n",
    "print(\"\\n Mixed matrices output :\\n\", oneD_1 @ twoD_1 @ twoD_2)"
   ]
  },
  {
   "cell_type": "markdown",
   "id": "da071f03",
   "metadata": {},
   "source": [
    "# torch.mul()"
   ]
  },
  {
   "cell_type": "code",
   "execution_count": null,
   "id": "196139a9",
   "metadata": {},
   "outputs": [],
   "source": []
  }
 ],
 "metadata": {
  "kernelspec": {
   "display_name": "pytorch",
   "language": "python",
   "name": "pytorch"
  },
  "language_info": {
   "codemirror_mode": {
    "name": "ipython",
    "version": 3
   },
   "file_extension": ".py",
   "mimetype": "text/x-python",
   "name": "python",
   "nbconvert_exporter": "python",
   "pygments_lexer": "ipython3",
   "version": "3.8.12"
  }
 },
 "nbformat": 4,
 "nbformat_minor": 5
}
